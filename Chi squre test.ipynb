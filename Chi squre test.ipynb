{
 "cells": [
  {
   "cell_type": "code",
   "execution_count": 3,
   "id": "2386739e-1587-42ae-826c-3b1a3786452b",
   "metadata": {},
   "outputs": [],
   "source": [
    "import scipy.stats as stat\n",
    "import numpy as np"
   ]
  },
  {
   "cell_type": "code",
   "execution_count": 4,
   "id": "f4cd125a-73d4-431f-af45-42a00f748df4",
   "metadata": {},
   "outputs": [],
   "source": [
    "#student of data studing in hrs\n",
    "expected_data=[6,7,6,5,8,6,7]\n",
    "objected_data=[8,6,5,6,7,6,7]"
   ]
  },
  {
   "cell_type": "code",
   "execution_count": 7,
   "id": "ad4ce452-d9de-4bd0-a857-9255d070194c",
   "metadata": {},
   "outputs": [],
   "source": [
    "#Chi-squre method\n",
    "\n",
    "chisqure_test,p_value=stat.chisquare(objected_data,expected_data)"
   ]
  },
  {
   "cell_type": "code",
   "execution_count": 8,
   "id": "c062056f-03bd-46a4-aebd-17f47610b587",
   "metadata": {},
   "outputs": [
    {
     "data": {
      "text/plain": [
       "(1.3011904761904762, 0.9715920172723203)"
      ]
     },
     "execution_count": 8,
     "metadata": {},
     "output_type": "execute_result"
    }
   ],
   "source": [
    "chisqure_test,p_value"
   ]
  },
  {
   "cell_type": "code",
   "execution_count": 10,
   "id": "e97ffcc3-e781-489b-a998-a95641d6b022",
   "metadata": {},
   "outputs": [],
   "source": [
    "#find critical value\n",
    "\n",
    "significance_value=0.05\n",
    "dof=len(expected_data)\n",
    "critical_value=stat.chi2.ppf(1-significance_value,dof)"
   ]
  },
  {
   "cell_type": "code",
   "execution_count": 11,
   "id": "9ef088b6-1a95-478a-a1eb-77111558e9f7",
   "metadata": {},
   "outputs": [
    {
     "data": {
      "text/plain": [
       "14.067140449340169"
      ]
     },
     "execution_count": 11,
     "metadata": {},
     "output_type": "execute_result"
    }
   ],
   "source": [
    "critical_value"
   ]
  },
  {
   "cell_type": "code",
   "execution_count": 12,
   "id": "4f3e42f2-ac2f-4346-88c0-cc887eae9c0b",
   "metadata": {},
   "outputs": [
    {
     "name": "stdout",
     "output_type": "stream",
     "text": [
      "Accept null hypothesis\n"
     ]
    }
   ],
   "source": [
    "if chisqure_test>critical_value:\n",
    "    print('Reject null hypothisis')\n",
    "else:\n",
    "    print('Accept null hypothesis')"
   ]
  },
  {
   "cell_type": "code",
   "execution_count": null,
   "id": "f67dc967-a2be-4116-87d0-20e69433daa2",
   "metadata": {},
   "outputs": [],
   "source": []
  }
 ],
 "metadata": {
  "kernelspec": {
   "display_name": "Python 3 (ipykernel)",
   "language": "python",
   "name": "python3"
  },
  "language_info": {
   "codemirror_mode": {
    "name": "ipython",
    "version": 3
   },
   "file_extension": ".py",
   "mimetype": "text/x-python",
   "name": "python",
   "nbconvert_exporter": "python",
   "pygments_lexer": "ipython3",
   "version": "3.10.8"
  }
 },
 "nbformat": 4,
 "nbformat_minor": 5
}
